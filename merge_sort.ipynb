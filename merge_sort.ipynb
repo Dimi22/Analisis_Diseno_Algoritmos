import math
import numpy as np 
import pylab as py 
%matplotlib inline
{
   "cell_type": "markdown",
   "metadata": {},
   "source": [
    "<h3> Ordenamiento por inserción </h3>"
   ]
  },

""" ORDENAMIENTO POR MEZCLA"""
def ordenamientoPorMezcla(arr):
    if len(arr)>1:
        mitad = len(arr)//2
        mitadizq=arr[:mitad]# Dividir los elementos del arreglo
        mitadder=arr[mitad:]# en 2 mitades
        
        ordenamientoPorMezcla(mitadizq)
        ordenamientoPorMezcla(mitadder)
        
        i=0
        j=0
        k=0
        
        #copiar a los arrays temp
        while i < len(mitadizq) and j < len(mitadder):
            if mitadizq[i] < mitadder[j]:
                arr[k]=mitadizq[i]
                i=i+1 
            else:
                arr[k]=mitadder[j]
                j=j+1 
            k=k+1 
        while i <len(mitadizq):
            arr[k]=mitadizq[i]
            i=i+1
            k=k+1 
        while j <len(mitadder):
            arr[k]=mitadder[j]
            j=j+1 
            k=k+1 
arr=[54,26,93,17,77,31,44,55,20]
ordenamientoPorMezcla(arr)
print(arr)
